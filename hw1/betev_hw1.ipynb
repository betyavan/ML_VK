{
 "cells": [
  {
   "cell_type": "markdown",
   "metadata": {
    "id": "L_cyFx8jHDJA"
   },
   "source": [
    "# Машинное обучение\n",
    "## Домашнее задание №1: KNN + Линейные модели"
   ]
  },
  {
   "cell_type": "markdown",
   "metadata": {
    "id": "73lMtcafHDJB"
   },
   "source": [
    "**Срок сдачи:** 30 ноября 2021, 08:30 \n",
    "\n",
    "**Максимально баллов:** 10 \n",
    "\n",
    "**Штраф за опоздание:** по 2 балла за 24 часа задержки. Через 5 дней домашнее задание сгорает.\n",
    "\n",
    "При отправлении ДЗ указывайте фамилию в названии файла. Формат сдачи будет указан чуть позже.\n",
    "\n",
    "Используйте данный Ipython Notebook при оформлении домашнего задания."
   ]
  },
  {
   "cell_type": "markdown",
   "metadata": {
    "id": "PZSV7qOtHDJC"
   },
   "source": [
    "\n",
    "**Штрафные баллы:**\n",
    "\n",
    "1. Отсутствие фамилии в имени скрипта (скрипт должен называться по аналогии со stroykova_hw1.ipynb) -1 баллов\n",
    "2. Все строчки должны быть выполнены. Нужно, чтобы output команды можно было увидеть уже в git'е. В противном случае -1 баллов\n",
    "\n",
    "При оформлении ДЗ нужно пользоваться данным файлом в качестве шаблона. Не нужно удалять и видоизменять написанный код и текст, если явно не указана такая возможность."
   ]
  },
  {
   "cell_type": "markdown",
   "metadata": {
    "id": "IYOAZX4RHDJD"
   },
   "source": [
    "## KNN (5 баллов)"
   ]
  },
  {
   "cell_type": "code",
   "execution_count": 1,
   "metadata": {
    "id": "g2738PH_HDJD"
   },
   "outputs": [],
   "source": [
    "import numpy as np\n",
    "import matplotlib.pyplot as plt\n",
    "\n",
    "import seaborn as sns\n",
    "from sklearn import datasets\n",
    "from sklearn.base import BaseEstimator\n",
    "from sklearn.datasets import fetch_openml, fetch_20newsgroups # поменял на openml, т.к. у меня новая версия\n",
    "\n",
    "from sklearn.model_selection import train_test_split\n",
    "from sklearn.neighbors import KNeighborsClassifier\n",
    "from sklearn.metrics import accuracy_score"
   ]
  },
  {
   "cell_type": "markdown",
   "metadata": {
    "id": "5kgBmf0HHDJE"
   },
   "source": [
    "##### Задание 1 (1 балл)\n",
    "Реализовать KNN в классе MyKNeighborsClassifier (обязательное условие: точность не ниже sklearn реализации)\n",
    "Разберитесь самостоятельно, какая мера расстояния используется в KNeighborsClassifier дефолтно и реализуйте свой алгоритм именно с этой мерой. \n",
    "Для подсчета расстояний можно использовать функции [отсюда](https://docs.scipy.org/doc/scipy/reference/spatial.distance.html)"
   ]
  },
  {
   "cell_type": "code",
   "execution_count": 2,
   "metadata": {
    "id": "M8Ij_sHpHDJF"
   },
   "outputs": [],
   "source": [
    "from scipy.spatial.distance import cdist\n",
    "from collections import Counter\n",
    "from sklearn.neighbors import KDTree"
   ]
  },
  {
   "cell_type": "code",
   "execution_count": 3,
   "metadata": {
    "id": "M2uRYNAbXiQK"
   },
   "outputs": [],
   "source": [
    "class MyKNeighborsClassifier(BaseEstimator):\n",
    "    \n",
    "    def __init__(self, n_neighbors, algorithm='brute', metric='euclidean'): # по деволту евклидовая\n",
    "        super(MyKNeighborsClassifier, self).__init__()\n",
    "        self.n_neighbors = n_neighbors\n",
    "        self.algorithm = algorithm\n",
    "        self.metric = metric\n",
    "    \n",
    "    def fit(self, X, y):\n",
    "        # обучение сотсоит в запоминании обучающей выборки\n",
    "        self.train_data = X\n",
    "        self.train_labels = y\n",
    "    \n",
    "    def predict(self, X, cv_mode=False):\n",
    "        predictions = np.ones(X.shape[0], dtype='int')\n",
    "        if self.algorithm == 'brute':\n",
    "            if self.metric == 'euclidean':\n",
    "                distances = cdist(X, self.train_data, 'minkowski', p=2) # (size_x, size_train)\n",
    "            elif self.metric == 'cosine':\n",
    "                distances = cdist(X, self.train_data, 'cosine') # (size_x, size_train)\n",
    "            ind = distances.argsort()[:, :self.n_neighbors]\n",
    "        elif self.algorithm == 'kd_tree':\n",
    "            tree = KDTree(self.train_data)\n",
    "            if self.metric == 'euclidean':\n",
    "                _, ind = tree.query(X, k=self.n_neighbors)\n",
    "            elif self.metric == 'cosine':\n",
    "                _, ind = tree.query(X, k=self.n_neighbors, metric='cosine')\n",
    "\n",
    "        labels = np.array([self.train_labels[i] for i in ind])\n",
    "        \n",
    "        # оптимизация для задания с кросс-валидацией\n",
    "        if cv_mode:\n",
    "            return labels\n",
    "\n",
    "        for i, cur_labels in enumerate(labels):\n",
    "                counter = Counter(cur_labels).most_common(1)\n",
    "                predictions[i] = int(counter[0][0])\n",
    "        return predictions\n",
    "            \n",
    "        "
   ]
  },
  {
   "cell_type": "markdown",
   "metadata": {
    "id": "-ev5ossiHDJG"
   },
   "source": [
    "**IRIS**\n",
    "\n",
    "В библиотеке scikit-learn есть несколько датасетов из коробки. Один из них [Ирисы Фишера](https://ru.wikipedia.org/wiki/%D0%98%D1%80%D0%B8%D1%81%D1%8B_%D0%A4%D0%B8%D1%88%D0%B5%D1%80%D0%B0)"
   ]
  },
  {
   "cell_type": "code",
   "execution_count": 4,
   "metadata": {
    "id": "uxMNpTPgHDJG"
   },
   "outputs": [],
   "source": [
    "iris = datasets.load_iris()"
   ]
  },
  {
   "cell_type": "code",
   "execution_count": 5,
   "metadata": {
    "id": "0qHXszx8HDJH"
   },
   "outputs": [],
   "source": [
    "X_train, X_test, y_train, y_test = train_test_split(iris.data, iris.target, test_size=0.1, stratify=iris.target)"
   ]
  },
  {
   "cell_type": "code",
   "execution_count": 6,
   "metadata": {
    "id": "zpAFCfgtHDJH"
   },
   "outputs": [],
   "source": [
    "clf = KNeighborsClassifier(n_neighbors=2, algorithm='brute')\n",
    "my_clf = MyKNeighborsClassifier(n_neighbors=2, algorithm='brute')"
   ]
  },
  {
   "cell_type": "code",
   "execution_count": 7,
   "metadata": {
    "id": "TZPyvKftHDJH"
   },
   "outputs": [],
   "source": [
    "clf.fit(X_train, y_train)\n",
    "my_clf.fit(X_train, y_train)"
   ]
  },
  {
   "cell_type": "code",
   "execution_count": 8,
   "metadata": {
    "id": "8rLl9y2gHDJH"
   },
   "outputs": [],
   "source": [
    "sklearn_pred = clf.predict(X_test)\n",
    "my_clf_pred = my_clf.predict(X_test)\n",
    "assert abs( accuracy_score(y_test, my_clf_pred) -  accuracy_score(y_test, sklearn_pred ) )<0.005, \"Score must be simillar\""
   ]
  },
  {
   "cell_type": "code",
   "execution_count": 9,
   "metadata": {
    "colab": {
     "base_uri": "https://localhost:8080/"
    },
    "id": "miW1yd8_HDJI",
    "outputId": "f8266b93-a697-4379-a84a-9831d4944e5f"
   },
   "outputs": [
    {
     "name": "stdout",
     "output_type": "stream",
     "text": [
      "1.0\n",
      "1.0\n"
     ]
    }
   ],
   "source": [
    "print(accuracy_score(y_test, my_clf_pred))\n",
    "print(accuracy_score(y_test, sklearn_pred ))"
   ]
  },
  {
   "cell_type": "markdown",
   "metadata": {
    "id": "rjjg3K5CHDJI"
   },
   "source": [
    "**Задание 2 (0.5 балла)**\n",
    "\n",
    "Давайте попробуем добиться скорости работы на fit, predict сравнимой со sklearn для iris. Допускается замедление не более чем в 2 раза. \n",
    "Для этого используем numpy. "
   ]
  },
  {
   "cell_type": "code",
   "execution_count": 11,
   "metadata": {
    "colab": {
     "base_uri": "https://localhost:8080/"
    },
    "id": "oIo8M0TsHDJI",
    "outputId": "bfbeb869-b403-4466-bd27-390eedadd506"
   },
   "outputs": [
    {
     "name": "stdout",
     "output_type": "stream",
     "text": [
      "221 µs ± 5.84 µs per loop (mean ± std. dev. of 7 runs, 1000 loops each)\n"
     ]
    }
   ],
   "source": [
    "%timeit clf.fit(X_train, y_train)"
   ]
  },
  {
   "cell_type": "code",
   "execution_count": 14,
   "metadata": {
    "colab": {
     "base_uri": "https://localhost:8080/"
    },
    "id": "zdCVOJTzHDJJ",
    "outputId": "fc5fac52-68cf-427e-c428-29b7e24201a6"
   },
   "outputs": [
    {
     "name": "stdout",
     "output_type": "stream",
     "text": [
      "338 ns ± 13.9 ns per loop (mean ± std. dev. of 7 runs, 1000000 loops each)\n"
     ]
    }
   ],
   "source": [
    "%timeit my_clf.fit(X_train, y_train)"
   ]
  },
  {
   "cell_type": "code",
   "execution_count": 15,
   "metadata": {
    "colab": {
     "base_uri": "https://localhost:8080/"
    },
    "id": "jwDS8kqXHDJJ",
    "outputId": "08ad1e2e-b272-469e-8e39-65261a687bd0"
   },
   "outputs": [
    {
     "name": "stdout",
     "output_type": "stream",
     "text": [
      "933 µs ± 245 µs per loop (mean ± std. dev. of 7 runs, 1000 loops each)\n"
     ]
    }
   ],
   "source": [
    "%timeit clf.predict(X_test)"
   ]
  },
  {
   "cell_type": "code",
   "execution_count": 16,
   "metadata": {
    "colab": {
     "base_uri": "https://localhost:8080/"
    },
    "id": "91bwq1o-HDJJ",
    "outputId": "b100b632-414b-49ca-ef85-ecb415536737"
   },
   "outputs": [
    {
     "name": "stdout",
     "output_type": "stream",
     "text": [
      "126 µs ± 3.12 µs per loop (mean ± std. dev. of 7 runs, 10000 loops each)\n"
     ]
    }
   ],
   "source": [
    "%timeit my_clf.predict(X_test)"
   ]
  },
  {
   "cell_type": "markdown",
   "metadata": {
    "id": "RednBaBxHDJJ"
   },
   "source": [
    "###### Задание 3 (1 балл)\n",
    "Добавьте algorithm='kd_tree' в реализацию KNN (использовать KDTree из sklearn.neighbors). Необходимо добиться скорости работы на fit,  predict сравнимой со sklearn для iris. Допускается замедление не более чем в 2 раза. \n",
    "Для этого используем numpy. Точность не должна уступать значению KNN из sklearn. "
   ]
  },
  {
   "cell_type": "code",
   "execution_count": 17,
   "metadata": {
    "id": "78zGV8eBHDJK"
   },
   "outputs": [],
   "source": [
    "clf = KNeighborsClassifier(n_neighbors=2, algorithm='kd_tree')\n",
    "my_clf = MyKNeighborsClassifier(n_neighbors=2, algorithm='kd_tree')"
   ]
  },
  {
   "cell_type": "code",
   "execution_count": 18,
   "metadata": {
    "id": "shNjREeDHDJK"
   },
   "outputs": [],
   "source": [
    "X_train, X_test, y_train, y_test = train_test_split(iris.data, iris.target, test_size=0.1, stratify=iris.target)"
   ]
  },
  {
   "cell_type": "code",
   "execution_count": 19,
   "metadata": {
    "colab": {
     "base_uri": "https://localhost:8080/"
    },
    "id": "x6hgzVWuHDJK",
    "outputId": "25cdcc1d-3d91-4dc1-a3cf-891f06de34fc"
   },
   "outputs": [
    {
     "name": "stdout",
     "output_type": "stream",
     "text": [
      "500 µs ± 144 µs per loop (mean ± std. dev. of 7 runs, 1000 loops each)\n"
     ]
    }
   ],
   "source": [
    "%timeit clf.fit(X_train, y_train)"
   ]
  },
  {
   "cell_type": "code",
   "execution_count": 20,
   "metadata": {
    "colab": {
     "base_uri": "https://localhost:8080/"
    },
    "id": "tQh0uVeJHDJK",
    "outputId": "539de2bd-7d88-4620-a1bd-3d88c0d5ac02"
   },
   "outputs": [
    {
     "name": "stdout",
     "output_type": "stream",
     "text": [
      "363 ns ± 37.9 ns per loop (mean ± std. dev. of 7 runs, 1000000 loops each)\n"
     ]
    }
   ],
   "source": [
    "%timeit my_clf.fit(X_train, y_train)"
   ]
  },
  {
   "cell_type": "code",
   "execution_count": 21,
   "metadata": {
    "colab": {
     "base_uri": "https://localhost:8080/"
    },
    "id": "Nu9VRXgsHDJK",
    "outputId": "0006ce67-b575-41d5-d648-482fca14033f"
   },
   "outputs": [
    {
     "name": "stdout",
     "output_type": "stream",
     "text": [
      "1.15 ms ± 276 µs per loop (mean ± std. dev. of 7 runs, 1000 loops each)\n"
     ]
    }
   ],
   "source": [
    "%timeit clf.predict(X_test)"
   ]
  },
  {
   "cell_type": "code",
   "execution_count": 22,
   "metadata": {
    "colab": {
     "base_uri": "https://localhost:8080/"
    },
    "id": "k5hKJcmBHDJL",
    "outputId": "1ef2ed92-f8b6-4424-fd8e-ae7b3bfb80e1"
   },
   "outputs": [
    {
     "name": "stdout",
     "output_type": "stream",
     "text": [
      "263 µs ± 18.3 µs per loop (mean ± std. dev. of 7 runs, 1000 loops each)\n"
     ]
    }
   ],
   "source": [
    "%timeit my_clf.predict(X_test)"
   ]
  },
  {
   "cell_type": "code",
   "execution_count": 23,
   "metadata": {
    "id": "2G2ONk1kHDJL"
   },
   "outputs": [],
   "source": [
    "sklearn_pred = clf.predict(X_test)\n",
    "my_clf_pred = my_clf.predict(X_test)\n",
    "assert abs( accuracy_score(y_test, my_clf_pred) -  accuracy_score(y_test, sklearn_pred ) )<0.005, \"Score must be simillar\""
   ]
  },
  {
   "cell_type": "code",
   "execution_count": 24,
   "metadata": {
    "colab": {
     "base_uri": "https://localhost:8080/"
    },
    "id": "HVc_oZw0HDJL",
    "outputId": "b98854dd-3ddc-4cc3-d4b4-4f9ce4881c4d"
   },
   "outputs": [
    {
     "name": "stdout",
     "output_type": "stream",
     "text": [
      "1.0\n",
      "1.0\n"
     ]
    }
   ],
   "source": [
    "print(accuracy_score(y_test, my_clf_pred))\n",
    "print(accuracy_score(y_test, sklearn_pred ))"
   ]
  },
  {
   "cell_type": "markdown",
   "metadata": {
    "id": "1t32sbgSHDJL"
   },
   "source": [
    "**Задание 4 (2.5 балла)**\n",
    "\n",
    "Рассмотрим новый датасет 20 newsgroups"
   ]
  },
  {
   "cell_type": "code",
   "execution_count": 25,
   "metadata": {
    "id": "kHIwABEHHDJL"
   },
   "outputs": [],
   "source": [
    "newsgroups = fetch_20newsgroups(subset='train',remove=['headers','footers', 'quotes'])"
   ]
  },
  {
   "cell_type": "code",
   "execution_count": 26,
   "metadata": {
    "id": "qAWjZF6rHDJL"
   },
   "outputs": [],
   "source": [
    "data = newsgroups['data']\n",
    "target = newsgroups['target']"
   ]
  },
  {
   "cell_type": "code",
   "execution_count": 27,
   "metadata": {
    "colab": {
     "base_uri": "https://localhost:8080/"
    },
    "id": "ejb3dNolHDJM",
    "outputId": "8777cdd2-780b-4623-a4bc-59499648d227",
    "scrolled": true
   },
   "outputs": [
    {
     "name": "stdout",
     "output_type": "stream",
     "text": [
      "I was wondering if anyone out there could enlighten me on this car I saw\n",
      "the other day. It was a 2-door sports car, looked to be from the late 60s/\n",
      "early 70s. It was called a Bricklin. The doors were really small. In addition,\n",
      "the front bumper was separate from the rest of the body. This is \n",
      "all I know. If anyone can tellme a model name, engine specs, years\n",
      "of production, where this car is made, history, or whatever info you\n",
      "have on this funky looking car, please e-mail.\n"
     ]
    }
   ],
   "source": [
    "print(data[0])"
   ]
  },
  {
   "cell_type": "markdown",
   "metadata": {
    "id": "JrmFkIoNHDJM"
   },
   "source": [
    "Преобразуйте текстовые данные из data с помощью [CountVectorizer](https://scikit-learn.org/stable/modules/generated/sklearn.feature_extraction.text.CountVectorizer.html). Словарь можно ограничить по частотности."
   ]
  },
  {
   "cell_type": "code",
   "execution_count": 28,
   "metadata": {
    "id": "k8iAa17MHDJM"
   },
   "outputs": [],
   "source": [
    "from sklearn.feature_extraction.text import CountVectorizer"
   ]
  },
  {
   "cell_type": "code",
   "execution_count": 29,
   "metadata": {
    "id": "CYDEdYSzHDJM"
   },
   "outputs": [],
   "source": [
    "vectorizer = CountVectorizer(min_df=3, max_df=4) # ограничил по частотности\n",
    "tr_data = vectorizer.fit_transform(data)"
   ]
  },
  {
   "cell_type": "code",
   "execution_count": 30,
   "metadata": {
    "id": "6UFj5dLWHDJM"
   },
   "outputs": [],
   "source": [
    "X = tr_data.toarray()"
   ]
  },
  {
   "cell_type": "code",
   "execution_count": 32,
   "metadata": {
    "colab": {
     "base_uri": "https://localhost:8080/"
    },
    "id": "dit13Ga_HDJN",
    "outputId": "1e119e34-2c9b-47bd-9352-9946cedd7a51"
   },
   "outputs": [
    {
     "data": {
      "text/plain": [
       "(11314, 8952)"
      ]
     },
     "execution_count": 32,
     "metadata": {},
     "output_type": "execute_result"
    }
   ],
   "source": [
    "X.shape # с 8952 алгоритм будет работать быстрее + не забываем о проклятии размерности"
   ]
  },
  {
   "cell_type": "markdown",
   "metadata": {
    "id": "Jp2vbK49HDJN"
   },
   "source": [
    "*Так мы получили векторное представление наших текстов. Значит можно приступать к задаче обучения модели*"
   ]
  },
  {
   "cell_type": "markdown",
   "metadata": {
    "id": "T1wJjLR0HDJN"
   },
   "source": [
    "Реализуйте разбиение выборки для кросс-валидации на 3 фолдах. Разрешено использовать sklearn.cross_validation"
   ]
  },
  {
   "cell_type": "code",
   "execution_count": 33,
   "metadata": {
    "id": "bVz3dQ-dHDJN"
   },
   "outputs": [],
   "source": [
    "from sklearn.metrics import accuracy_score, make_scorer\n",
    "from sklearn.model_selection import cross_validate"
   ]
  },
  {
   "cell_type": "code",
   "execution_count": 34,
   "metadata": {
    "id": "1jUwR8S4WtNR"
   },
   "outputs": [
    {
     "name": "stdout",
     "output_type": "stream",
     "text": [
      "Wall time: 7min 53s\n"
     ]
    },
    {
     "data": {
      "text/plain": [
       "0.1807495323232434"
      ]
     },
     "execution_count": 34,
     "metadata": {},
     "output_type": "execute_result"
    }
   ],
   "source": [
    "%%time\n",
    "model = MyKNeighborsClassifier(n_neighbors=3, algorithm='brute')\n",
    "cv_results = cross_validate(model, X, target, cv=3,\n",
    "                            scoring={'accuracy_score': make_scorer(accuracy_score)})\n",
    "np.mean(cv_results['test_accuracy_score'])"
   ]
  },
  {
   "cell_type": "markdown",
   "metadata": {},
   "source": [
    "это очень долго, поэтому написал свою версию cross_validate с оптимизацией подсчета оптимального k"
   ]
  },
  {
   "cell_type": "markdown",
   "metadata": {
    "id": "62GxHzKFHDJO"
   },
   "source": [
    "Напишите метод, позволяющий найти оптимальное количество ближайших соседей(дающее максимальную точность в среднем на валидации на 3 фолдах).\n",
    "Постройте график зависимости средней точности от количества соседей. Можно рассмотреть число соседей от 1 до 10."
   ]
  },
  {
   "cell_type": "code",
   "execution_count": 39,
   "metadata": {
    "id": "8FOzzBOqdr8Q"
   },
   "outputs": [],
   "source": [
    "# делит выборку на фолды для cv\n",
    "def make_cv_folds(X, y, cv):\n",
    "    X_folds = []\n",
    "    y_folds = []\n",
    "    fold_size = len(X) // cv\n",
    "    for i in range(cv):\n",
    "        if i == cv - 1: # в случае неделимости последний фолд будет больше\n",
    "            X_folds.append(X[fold_size * i:])\n",
    "            y_folds.append(y[fold_size * i:])\n",
    "        else:\n",
    "            X_folds.append(X[fold_size * i: fold_size * (i + 1)])\n",
    "            y_folds.append(y[fold_size * i: fold_size * (i + 1)])\n",
    "\n",
    "    return X_folds, y_folds"
   ]
  },
  {
   "cell_type": "code",
   "execution_count": 40,
   "metadata": {
    "id": "LA8bRAk4bQxC"
   },
   "outputs": [],
   "source": [
    "def optimal_k(X, y, cv=3, max_k=10, metric='euclidean'):\n",
    "    # статистика точночти в зависимости от k\n",
    "    stats_k = {k: [] for k in range(1, max_k + 1)}\n",
    "    X_folds, y_folds = make_cv_folds(X, y, cv)\n",
    "    \n",
    "    # val_fold номер фолда для валидации\n",
    "    for val_fold in range(cv):\n",
    "        # собираем train\n",
    "        X_train = []\n",
    "        y_train = []\n",
    "        for i in range(cv):\n",
    "            if i != val_fold:\n",
    "                X_train.extend(X_folds[i])\n",
    "                y_train.extend(y_folds[i])\n",
    "        X_train = np.array(X_train)\n",
    "        y_train = np.array(y_train) \n",
    "        \n",
    "        # val\n",
    "        X_val = X_folds[val_fold]\n",
    "        y_val = y_folds[val_fold]\n",
    "        \n",
    "        # для текущего разбиения предсказываем один раз\n",
    "        model = MyKNeighborsClassifier(n_neighbors=max_k, metric=metric)\n",
    "        model.fit(X_train, y_train)\n",
    "        labels = model.predict(X_val, cv_mode=True)\n",
    "        \n",
    "        # по предсказанным лейблам для каждого k считаем accuracy\n",
    "        for k in range(1, max_k + 1):\n",
    "            predictions = np.empty(X_val.shape[0], dtype='int')\n",
    "            for i, cur_labels in enumerate(labels):\n",
    "                counter = Counter(cur_labels[:k]).most_common(1)\n",
    "                predictions[i] = int(counter[0][0])\n",
    "            stats_k[k].append(accuracy_score(y_val, predictions))\n",
    "  \n",
    "\n",
    "    return stats_k\n"
   ]
  },
  {
   "cell_type": "markdown",
   "metadata": {},
   "source": [
    "средняя accuracy для k от 1 до 10 с Евклидовой метрикой и CountVectorizer"
   ]
  },
  {
   "cell_type": "code",
   "execution_count": 41,
   "metadata": {
    "id": "NW8054UglFof"
   },
   "outputs": [
    {
     "data": {
      "image/png": "[encoded data removed]",
      "text/plain": [
       "<Figure size 432x288 with 1 Axes>"
      ]
     },
     "metadata": {
      "needs_background": "light"
     },
     "output_type": "display_data"
    }
   ],
   "source": [
    "res = optimal_k(X, target)\n",
    "mean_acc = [np.mean(lst) for lst in res.values()]\n",
    "\n",
    "plt.xticks(np.arange(1, 11))\n",
    "plt.grid()\n",
    "plt.title(\"Euclidian + CountVectorizer\")\n",
    "plt.xlabel(\"k\")\n",
    "plt.ylabel(\"mean accuracy\")\n",
    "plt.plot(np.arange(1, 11), mean_acc);"
   ]
  },
  {
   "cell_type": "markdown",
   "metadata": {
    "id": "-Yz8r2m4HDJP"
   },
   "source": [
    "Как изменится качество на валидации, если:\n",
    "\n",
    "1. Используется косинусная метрика вместо евклидовой.\n",
    "2. К текстам применяется TfIdf векторизацию( sklearn.feature_extraction.text.TfidfVectorizer)\n",
    "\n",
    "Сравните модели, выберите лучшую."
   ]
  },
  {
   "cell_type": "code",
   "execution_count": 42,
   "metadata": {
    "colab": {
     "base_uri": "https://localhost:8080/",
     "height": 269
    },
    "id": "MnTnCwJBvXhj",
    "outputId": "80e40f6b-8616-45fd-825f-ac4de880df73"
   },
   "outputs": [
    {
     "data": {
      "image/png": "[encoded data removed]",
      "text/plain": [
       "<Figure size 432x288 with 1 Axes>"
      ]
     },
     "metadata": {
      "needs_background": "light"
     },
     "output_type": "display_data"
    }
   ],
   "source": [
    "res = optimal_k(X, target, metric='cosine')\n",
    "mean_acc = [np.mean(lst) for lst in res.values()]\n",
    "\n",
    "plt.xticks(np.arange(1, 11))\n",
    "plt.grid()\n",
    "plt.title(\"cosine + CountVectorizer\")\n",
    "plt.xlabel(\"k\")\n",
    "plt.ylabel(\"mean accuracy\")\n",
    "plt.plot(np.arange(1, 11), mean_acc);"
   ]
  },
  {
   "cell_type": "code",
   "execution_count": 43,
   "metadata": {
    "id": "dpc40f7_zzWi"
   },
   "outputs": [],
   "source": [
    "from sklearn.feature_extraction.text import TfidfVectorizer"
   ]
  },
  {
   "cell_type": "code",
   "execution_count": 47,
   "metadata": {
    "id": "mBduJI83z5iC"
   },
   "outputs": [],
   "source": [
    "vectorizer = TfidfVectorizer(min_df=3, max_df=4)\n",
    "tr_data = vectorizer.fit_transform(data)"
   ]
  },
  {
   "cell_type": "code",
   "execution_count": 48,
   "metadata": {
    "colab": {
     "base_uri": "https://localhost:8080/"
    },
    "id": "Zxo3Akbtz5lB",
    "outputId": "c326d870-d3a8-4fbc-961d-d00a89a6d979"
   },
   "outputs": [
    {
     "data": {
      "text/plain": [
       "(11314, 8952)"
      ]
     },
     "execution_count": 48,
     "metadata": {},
     "output_type": "execute_result"
    }
   ],
   "source": [
    "X = tr_data.toarray()\n",
    "X.shape"
   ]
  },
  {
   "cell_type": "code",
   "execution_count": 49,
   "metadata": {
    "colab": {
     "base_uri": "https://localhost:8080/",
     "height": 265
    },
    "id": "UAsRu7wIz5nW",
    "outputId": "8a31ab4a-384e-46a2-9e40-e2a15b143af8"
   },
   "outputs": [
    {
     "data": {
      "image/png": "[encoded data removed]",
      "text/plain": [
       "<Figure size 432x288 with 1 Axes>"
      ]
     },
     "metadata": {
      "needs_background": "light"
     },
     "output_type": "display_data"
    }
   ],
   "source": [
    "res = optimal_k(X, target)\n",
    "mean_acc = [np.mean(lst) for lst in res.values()]\n",
    "\n",
    "plt.xticks(np.arange(1, 11))\n",
    "plt.grid()\n",
    "plt.title(\"Euclidian + Tfidf\")\n",
    "plt.xlabel(\"k\")\n",
    "plt.ylabel(\"mean accuracy\")\n",
    "plt.plot(np.arange(1, 11), mean_acc);"
   ]
  },
  {
   "cell_type": "code",
   "execution_count": 50,
   "metadata": {
    "colab": {
     "base_uri": "https://localhost:8080/",
     "height": 265
    },
    "id": "BSm_YxvY37Nl",
    "outputId": "fc53e27c-237d-4a3d-9ec1-7d927b876b1c"
   },
   "outputs": [
    {
     "data": {
      "image/png": "[encoded data removed]",
      "text/plain": [
       "<Figure size 432x288 with 1 Axes>"
      ]
     },
     "metadata": {
      "needs_background": "light"
     },
     "output_type": "display_data"
    }
   ],
   "source": [
    "res = optimal_k(X, target, metric='cosine')\n",
    "mean_acc = [np.mean(lst) for lst in res.values()]\n",
    "\n",
    "plt.xticks(np.arange(1, 11))\n",
    "plt.grid()\n",
    "plt.title(\"cosine + Tfidf\")\n",
    "plt.xlabel(\"k\")\n",
    "plt.ylabel(\"mean accuracy\")\n",
    "plt.plot(np.arange(1, 11), mean_acc);"
   ]
  },
  {
   "cell_type": "markdown",
   "metadata": {},
   "source": [
    "Последняя модель оказалась эффективнее, буду тестировать ее"
   ]
  },
  {
   "cell_type": "markdown",
   "metadata": {
    "id": "iEcXA4SaHDJP"
   },
   "source": [
    "Загрузим  теперь test  часть нашей выборки и преобразуем её аналогично с train частью. Не забудьте, что наборы слов в train и test части могут отличаться."
   ]
  },
  {
   "cell_type": "code",
   "execution_count": 51,
   "metadata": {
    "id": "U6nqs9Hm8J3c"
   },
   "outputs": [],
   "source": [
    "newsgroups = fetch_20newsgroups(subset='train',remove=['headers','footers', 'quotes'])"
   ]
  },
  {
   "cell_type": "code",
   "execution_count": 52,
   "metadata": {
    "id": "iFYwXVaC8J6D"
   },
   "outputs": [],
   "source": [
    "vectorizer = TfidfVectorizer(min_df=3, max_df=4)\n",
    "tr_data = vectorizer.fit_transform(newsgroups['data'])\n",
    "X_train = tr_data.toarray()\n",
    "y_train = newsgroups['target']"
   ]
  },
  {
   "cell_type": "code",
   "execution_count": 53,
   "metadata": {
    "colab": {
     "base_uri": "https://localhost:8080/"
    },
    "id": "PDwyosnvBmcP",
    "outputId": "f8acb741-841f-4655-f55d-ee52d8783db0"
   },
   "outputs": [
    {
     "data": {
      "text/plain": [
       "((11314, 8952), (11314,))"
      ]
     },
     "execution_count": 53,
     "metadata": {},
     "output_type": "execute_result"
    }
   ],
   "source": [
    "X_train.shape, y_train.shape"
   ]
  },
  {
   "cell_type": "markdown",
   "metadata": {},
   "source": [
    "максимум был при 4 соседях"
   ]
  },
  {
   "cell_type": "code",
   "execution_count": 54,
   "metadata": {
    "id": "UErMMgt479sL"
   },
   "outputs": [],
   "source": [
    "model = MyKNeighborsClassifier(n_neighbors=4, metric='cosine')\n",
    "model.fit(X_train, y_train)"
   ]
  },
  {
   "cell_type": "code",
   "execution_count": 55,
   "metadata": {
    "id": "9EthCgOyHDJP"
   },
   "outputs": [],
   "source": [
    "newsgroups = fetch_20newsgroups(subset='test',remove=['headers','footers', 'quotes'])"
   ]
  },
  {
   "cell_type": "code",
   "execution_count": 56,
   "metadata": {
    "id": "9rZwRYwG7toy"
   },
   "outputs": [],
   "source": [
    "test_data = vectorizer.transform(newsgroups['data'])\n",
    "X_test = test_data.toarray()\n",
    "y_test = newsgroups['target']"
   ]
  },
  {
   "cell_type": "code",
   "execution_count": 57,
   "metadata": {
    "colab": {
     "base_uri": "https://localhost:8080/"
    },
    "id": "j9qYk0SI-VAf",
    "outputId": "ee0893e4-e898-4499-9a26-8314abf380be"
   },
   "outputs": [
    {
     "data": {
      "text/plain": [
       "((7532, 8952), (7532,))"
      ]
     },
     "execution_count": 57,
     "metadata": {},
     "output_type": "execute_result"
    }
   ],
   "source": [
    "X_test.shape, y_test.shape"
   ]
  },
  {
   "cell_type": "code",
   "execution_count": 58,
   "metadata": {
    "id": "E92wpqht7trk"
   },
   "outputs": [],
   "source": [
    "pred = model.predict(X_test)"
   ]
  },
  {
   "cell_type": "code",
   "execution_count": 59,
   "metadata": {
    "colab": {
     "base_uri": "https://localhost:8080/"
    },
    "id": "ryHmoJWD9GJt",
    "outputId": "e27718b4-2af9-4cfa-ae1e-d8e9a617862a"
   },
   "outputs": [
    {
     "data": {
      "text/plain": [
       "0.25955921402018056"
      ]
     },
     "execution_count": 59,
     "metadata": {},
     "output_type": "execute_result"
    }
   ],
   "source": [
    "accuracy_score(y_test, pred)"
   ]
  },
  {
   "cell_type": "markdown",
   "metadata": {
    "id": "wm9VhjbrHDJP"
   },
   "source": [
    "Оценим точность вашей лучшей модели на test части датасета. Отличается ли оно от кросс-валидации? Попробуйте сделать выводы, почему отличается качество."
   ]
  },
  {
   "cell_type": "markdown",
   "metadata": {
    "id": "nl_pt5CvHDJQ"
   },
   "source": [
    "accuracy получилась 0.26, немного ниже, чем на кросс-валидации (~0.293). Качество отличается, потому что валидационная выборка сложно, но становится частью обучающего набора, и точность не обязана совпасть на тестовой выборке"
   ]
  },
  {
   "cell_type": "markdown",
   "metadata": {
    "collapsed": true,
    "id": "mbMg3RFuHDJQ"
   },
   "source": [
    "# Линейные модели (5 баллов)"
   ]
  },
  {
   "cell_type": "code",
   "execution_count": 1,
   "metadata": {
    "id": "07-oLIAYHDJQ"
   },
   "outputs": [],
   "source": [
    "import pandas as pd\n",
    "import numpy as np\n",
    "import matplotlib.pyplot as plt\n",
    "\n",
    "%matplotlib inline\n",
    "\n",
    "plt.style.use('ggplot')\n",
    "plt.rcParams['figure.figsize'] = (12,5)"
   ]
  },
  {
   "cell_type": "markdown",
   "metadata": {
    "id": "Fzfy6g2fHDJQ"
   },
   "source": [
    "В этом задании мы будем реализовать линейные модели. Необходимо реализовать линейную и логистическую регрессии с L2 регуляризацией\n",
    "\n",
    "### Теоретическое введение\n",
    "\n",
    "\n",
    "\n",
    "Линейная регрессия решает задачу регрессии и оптимизирует функцию потерь MSE \n",
    "\n",
    "$$L(w) =  \\frac{1}{N}\\left[\\sum_i (y_i - a_i) ^ 2 \\right], $$ где $y_i$ $-$ целевая функция,  $a_i = a(x_i) =  \\langle\\,x_i,w\\rangle ,$ $-$ предсказание алгоритма на объекте $x_i$, $w$ $-$ вектор весов (размерности $D$), $x_i$ $-$ вектор признаков (такой же размерности $D$).\n",
    "\n",
    "Не забываем, что здесь и далее  мы считаем, что в $x_i$ есть тождественный вектор единиц, ему соответствует вес $w_0$.\n",
    "\n",
    "\n",
    "Логистическая регрессия является линейным классификатором, который оптимизирует так называемый функционал log loss:\n",
    "\n",
    "$$L(w) = - \\frac{1}{N}\\left[\\sum_i y_i \\log a_i + ( 1 - y_i) \\log (1 - a_i) \\right],$$\n",
    "где  $y_i  \\in \\{0,1\\}$ $-$ метка класса, $a_i$ $-$ предсказание алгоритма на объекте $x_i$. Модель пытается предсказать апостериорую вероятность объекта принадлежать к классу \"1\":\n",
    "$$ p(y_i = 1 | x_i) = a(x_i) =  \\sigma( \\langle\\,x_i,w\\rangle ),$$\n",
    "$w$ $-$ вектор весов (размерности $D$), $x_i$ $-$ вектор признаков (такой же размерности $D$).\n",
    "\n",
    "Функция $\\sigma(x)$ $-$ нелинейная функция, пероводящее скалярное произведение объекта на веса в число $\\in (0,1)$ (мы же моделируем вероятность все-таки!)\n",
    "\n",
    "$$\\sigma(x) = \\frac{1}{1 + \\exp(-x)}$$\n",
    "\n",
    "Если внимательно посмотреть на функцию потерь, то можно заметить, что в зависимости от правильного ответа алгоритм штрафуется или функцией $-\\log a_i$, или функцией $-\\log (1 - a_i)$.\n",
    "\n",
    "\n",
    "\n",
    "Часто для решения проблем, которые так или иначе связаны с проблемой переобучения, в функционал качества добавляют слагаемое, которое называют ***регуляризацией***. Итоговый функционал для линейной регрессии тогда принимает вид:\n",
    "\n",
    "$$L(w) =  \\frac{1}{N}\\left[\\sum_i (y_i - a_i) ^ 2 \\right] + \\frac{1}{C}R(w) $$\n",
    "\n",
    "Для логистической: \n",
    "$$L(w) = - \\frac{1}{N}\\left[\\sum_i y_i \\log a_i + ( 1 - y_i) \\log (1 - a_i) \\right] +  \\frac{1}{C}R(w)$$\n",
    "\n",
    "Самое понятие регуляризации введено основателем ВМК академиком Тихоновым https://ru.wikipedia.org/wiki/Метод_регуляризации_Тихонова\n",
    "\n",
    "Идейно методика регуляризации заключается в следующем $-$ мы рассматриваем некорректно поставленную задачу (что это такое можно найти в интернете), для того чтобы сузить набор различных вариантов (лучшие из которых будут являться переобучением ) мы вводим дополнительные ограничения на множество искомых решений. На лекции Вы уже рассмотрели два варианта регуляризации.\n",
    "\n",
    "$L1$ регуляризация:\n",
    "$$R(w) = \\sum_{j=1}^{D}|w_j|$$\n",
    "$L2$ регуляризация:\n",
    "$$R(w) =  \\sum_{j=1}^{D}w_j^2$$\n",
    "\n",
    "С их помощью мы ограничиваем модель в  возможности выбора каких угодно весов минимизирующих наш лосс, модель уже не сможет подстроиться под данные как ей угодно. \n",
    "\n",
    "Вам нужно добавить соотвествущую Вашему варианту $L2$ регуляризацию.\n",
    "\n",
    "И так, мы поняли, какую функцию ошибки будем минимизировать, разобрались, как получить предсказания по объекту и обученным весам. Осталось разобраться, как получить оптимальные веса. Для этого нужно выбрать какой-то метод оптимизации.\n",
    "\n",
    "\n",
    "\n",
    "Градиентный спуск является самым популярным алгоритмом обучения линейных моделей. В этом задании Вам предложат реализовать стохастический градиентный спуск или  мини-батч градиентный спуск (мини-батч на русский язык довольно сложно перевести, многие переводят это как \"пакетный\", но мне не кажется этот перевод удачным). Далее нам потребуется определение **эпохи**.\n",
    "Эпохой в SGD и MB-GD называется один проход по **всем** объектам в обучающей выборки.\n",
    "* В SGD градиент расчитывается по одному случайному объекту. Сам алгоритм выглядит примерно так:\n",
    "        1) Перемешать выборку\n",
    "        2) Посчитать градиент функции потерь на одном объекте (далее один объект тоже будем называть батчем)\n",
    "        3) Сделать шаг спуска\n",
    "        4) Повторять 2) и 3) пока не пройдет максимальное число эпох.\n",
    "* В Mini Batch SGD - по подвыборке объектов. Сам алгоритм выглядит примерно так::\n",
    "        1) Перемешать выборку, выбрать размер мини-батча (от 1 до размера выборки)\n",
    "        2) Почитать градиент функции потерь по мини-батчу (не забыть поделить на  число объектов в мини-батче)\n",
    "        3) Сделать шаг спуска\n",
    "        4) Повторять 2) и 3) пока не пройдет максимальное число эпох.\n",
    "* Для отладки алгоритма реализуйте возможность  вывода средней ошибки на обучении модели по объектам (мини-батчам). После шага градиентного спуска посчитайте значение ошибки на объекте (или мини-батче), а затем усредните, например, по ста шагам. Если обучение проходит корректно, то мы должны увидеть, что каждые 100 шагов функция потерь уменьшается. \n",
    "* Правило останова - максимальное количество эпох\n",
    "    "
   ]
  },
  {
   "cell_type": "markdown",
   "metadata": {
    "id": "EXeteeEdHDJR"
   },
   "source": [
    "## Зачем нужны батчи?\n",
    "\n",
    "\n",
    "Как Вы могли заметить из теоретического введения, что в случае SGD, что в случа mini-batch GD,  на каждой итерации обновление весов  происходит только по небольшой части данных (1 пример в случае SGD, batch примеров в случае mini-batch). То есть для каждой итерации нам *** не нужна вся выборка***. Мы можем просто итерироваться по выборке, беря батч нужного размера (далее 1 объект тоже будем называть батчом).\n",
    "\n",
    "Легко заметить, что в этом случае нам не нужно загружать все данные в оперативную память, достаточно просто считать батч с диска, обновить веса, считать диска другой батч и так далее. В целях упрощения домашней работы, прямо с диска  мы считывать не будем, будем работать с обычными numpy array. \n",
    "\n",
    "\n",
    "\n",
    "\n",
    "\n",
    "## Немножко про генераторы в Python\n",
    "\n",
    "\n",
    "\n",
    "Идея считывания данных кусками удачно ложится на так называемые ***генераторы*** из языка Python. В данной работе Вам предлагается не только разобраться с логистической регрессией, но  и познакомиться с таким важным элементом языка.  При желании Вы можете убрать весь код, связанный с генераторами, и реализовать логистическую регрессию и без них, ***штрафоваться это никак не будет***. Главное, чтобы сама модель была реализована правильно, и все пункты были выполнены. \n",
    "\n",
    "Подробнее можно почитать вот тут https://anandology.com/python-practice-book/iterators.html\n",
    "\n",
    "\n",
    "К генератору стоит относиться просто как к функции, которая порождает не один объект, а целую последовательность объектов. Новое значение из последовательности генерируется с помощью ключевого слова ***yield***. \n",
    "\n",
    "Концепция крайне удобная для обучения  моделей $-$ у Вас есть некий источник данных, который Вам выдает их кусками, и Вам совершенно все равно откуда он их берет. Под ним может скрывать как массив в оперативной памяти, как файл на жестком диске, так и SQL база данных. Вы сами данные никуда не сохраняете, оперативную память экономите.\n",
    "\n",
    "Если Вам понравилась идея с генераторами, то Вы можете реализовать свой, используя прототип batch_generator. В нем Вам нужно выдавать батчи признаков и ответов для каждой новой итерации спуска. Если не понравилась идея, то можете реализовывать SGD или mini-batch GD без генераторов."
   ]
  },
  {
   "cell_type": "code",
   "execution_count": 2,
   "metadata": {
    "id": "NwUyzBecHDJR"
   },
   "outputs": [],
   "source": [
    "def batch_generator(X, y, shuffle=True, batch_size=1):\n",
    "    \"\"\"\n",
    "    Гератор новых батчей для обучения\n",
    "    X          - матрица объекты-признаки\n",
    "    y_batch    - вектор ответов\n",
    "    shuffle    - нужно ли случайно перемешивать выборку\n",
    "    batch_size - размер батча ( 1 это SGD, > 1 mini-batch GD)\n",
    "    Генерирует подвыборку для итерации спуска (X_batch, y_batch)\n",
    "    \"\"\"\n",
    "    if len(X) != len(y):\n",
    "        raise ValueError(\"X and y must have the same length\")\n",
    "        \n",
    "    X = np.array(X)\n",
    "    y = np.array(y)\n",
    "    perm = np.random.permutation(len(X)) if shuffle else np.arange(len(X))\n",
    "    \n",
    "    cur_batch_size = 0\n",
    "    amount_batch = 0 # если размер датасета не делится на batch_size\n",
    "    # то не возвращаем последний маленький батч\n",
    "    max_amount_batch = len(X) // batch_size\n",
    "    \n",
    "    X_batch = []\n",
    "    y_batch = []\n",
    "    for ind in perm:\n",
    "        X_batch.append(X[ind])\n",
    "        y_batch.append(y[ind])\n",
    "        cur_batch_size += 1\n",
    "        if cur_batch_size == batch_size:\n",
    "            cur_batch_size = 0\n",
    "            amount_batch += 1\n",
    "            yield (np.array(X_batch), np.array(y_batch))\n",
    "            if amount_batch == max_amount_batch:\n",
    "                break\n",
    "            X_batch = []\n",
    "            y_batch = []"
   ]
  },
  {
   "cell_type": "code",
   "execution_count": 55,
   "metadata": {
    "id": "5bZAfA1DHDJR"
   },
   "outputs": [],
   "source": [
    "# Теперь можно сделать генератор по данным ()\n",
    "#my_batch_generator = batch_generator(X, y, shuffle=True, batch_size=1):"
   ]
  },
  {
   "cell_type": "code",
   "execution_count": 8,
   "metadata": {
    "id": "MYGAWft3HDJS"
   },
   "outputs": [],
   "source": [
    "#%%pycodestyle\n",
    "\n",
    "def sigmoid(x):\n",
    "    \"\"\"\n",
    "    Вычисляем значение сигмоида.\n",
    "    X - выход линейной модели\n",
    "    \"\"\"\n",
    "    \n",
    "    ## Your code Here\n",
    "    return 1. / (1 + np.exp(-x))\n",
    "\n",
    "\n",
    "from sklearn.base import BaseEstimator, ClassifierMixin\n",
    "\n",
    "class MySGDClassifier(BaseEstimator, ClassifierMixin):\n",
    "    \n",
    "    def __init__(self, batch_generator, C=1, alpha=0.01, max_epoch=10, model_type='lin_reg'):\n",
    "        \"\"\"\n",
    "        batch_generator -- функция генератор, которой будем создавать батчи\n",
    "        C - коэф. регуляризации\n",
    "        alpha - скорость спуска\n",
    "        max_epoch - максимальное количество эпох\n",
    "        model_type - тим модели, lin_reg или log_reg\n",
    "        \"\"\"\n",
    "        \n",
    "        self.C = C\n",
    "        self.alpha = alpha\n",
    "        self.max_epoch = max_epoch\n",
    "        self.batch_generator = batch_generator\n",
    "        self.errors_log = {'iter' : [], 'loss' : []}  \n",
    "        self.model_type = model_type\n",
    "        \n",
    "    def calc_loss(self, X_batch, y_batch):\n",
    "        \"\"\"\n",
    "        Считаем функцию потерь по батчу \n",
    "        X_batch - матрица объекты-признаки по батчу\n",
    "        y_batch - вектор ответов по батчу\n",
    "        Не забудте тип модели (линейная или логистическая регрессия)!\n",
    "        \"\"\"\n",
    "        pred = self.predict(X_batch)\n",
    "        if self.model_type == 'lin_reg':\n",
    "            loss = np.sum(np.square(pred - y_batch)) / len(X_batch)\n",
    "        else:\n",
    "            pred = np.clip(pred, 1e-10, 1 - 1e-10) # избегаем численной нестабильности\n",
    "            loss = -np.sum(y_batch * np.log(pred) + (np.ones_like(y_batch) - y_batch) * np.log(np.ones_like(pred) - pred)) / len(X_batch)\n",
    "        \n",
    "        # l2 regularization\n",
    "        loss += np.sum(np.square(self.weights)) / self.C\n",
    "        \n",
    "        return loss\n",
    "    \n",
    "    def calc_loss_grad(self, X_batch, y_batch):\n",
    "        \"\"\"\n",
    "        Считаем  градиент функции потерь по батчу (то что Вы вывели в задании 1)\n",
    "        X_batch - матрица объекты-признаки по батчу\n",
    "        y_batch - вектор ответов по батчу\n",
    "        Не забудте тип модели (линейная или логистическая регрессия)!\n",
    "        \"\"\"\n",
    "        \n",
    "        if self.model_type == 'lin_reg':\n",
    "            loss_grad = 2 * X_batch.T @  (X_batch @ self.weights - y_batch) / len(X_batch)\n",
    "        else:\n",
    "            loss_grad = np.zeros_like(self.weights)\n",
    "            for xi, yi in zip(X_batch, y_batch):\n",
    "                loss_grad -= (yi - sigmoid(xi @ self.weights)) * xi\n",
    "            \n",
    "        \n",
    "        # l2 regularization\n",
    "        loss_grad += 2 * self.weights / self.C\n",
    "        \n",
    "        return loss_grad\n",
    "    \n",
    "    def update_weights(self, new_grad):\n",
    "        \"\"\"\n",
    "        Обновляем вектор весов\n",
    "        new_grad - градиент по батчу\n",
    "        \"\"\"\n",
    "        self.weights -= self.alpha * new_grad\n",
    "    \n",
    "    def fit(self, X, y, n_log=1):\n",
    "        '''\n",
    "        Обучение модели\n",
    "        X - матрица объекты-признаки\n",
    "        y - вектор ответов\n",
    "        '''\n",
    "        _, k = X.shape\n",
    "        # Нужно инициализровать случайно веса\n",
    "        self.weights = np.random.randn(k)\n",
    "        num_iter = 0\n",
    "        cumloss = 0\n",
    "        for n in range(self.max_epoch):\n",
    "            new_epoch_generator = self.batch_generator\n",
    "            for batch_num, new_batch in enumerate(new_epoch_generator):\n",
    "                X_batch = new_batch[0]\n",
    "                y_batch = new_batch[1]\n",
    "                batch_grad = self.calc_loss_grad(X_batch, y_batch)\n",
    "                batch_loss = self.calc_loss(X_batch, y_batch)\n",
    "                cumloss += batch_loss\n",
    "                self.update_weights(batch_grad)\n",
    "                # Подумайте в каком месте стоит посчитать ошибку для отладки модели\n",
    "                # До градиентного шага или после\n",
    "                # batch_loss = self.calc_loss(X_batch, y_batch)\n",
    "                if num_iter != 0 and num_iter % n_log == 0:\n",
    "                  self.errors_log['iter'].append(batch_num)\n",
    "                  self.errors_log['loss'].append(cumloss / n_log)\n",
    "                  cumloss = 0\n",
    "                num_iter += 1\n",
    "                \n",
    "        return self\n",
    "        \n",
    "    def predict(self, X):\n",
    "        '''\n",
    "        Предсказание класса\n",
    "        X - матрица объекты-признаки\n",
    "        Не забудте тип модели (линейная или логистическая регрессия)!\n",
    "        '''\n",
    "        \n",
    "        # Желательно здесь использовать матричные операции между X и весами, например, numpy.dot \n",
    "        if self.model_type == 'lin_reg':\n",
    "            y_hat = X @ self.weights\n",
    "        else:\n",
    "            y_hat = sigmoid(X @ self.weights)\n",
    "            #y_hat = 1 if p >= 0.5 else 0\n",
    "        return y_hat\n",
    "    \n",
    "    \n",
    "    def get_weights(self):\n",
    "        return self.weights.copy()"
   ]
  },
  {
   "cell_type": "markdown",
   "metadata": {
    "id": "E3i9kyRuHDJS"
   },
   "source": [
    "Запустите обе регрессии на синтетических данных. \n",
    "\n",
    "\n",
    "Выведите полученные веса и нарисуйте разделяющую границу между классами (используйте только первых два веса для первых двух признаков X[:,0], X[:,1] для отображения в 2d пространство ).  "
   ]
  },
  {
   "cell_type": "code",
   "execution_count": 9,
   "metadata": {
    "id": "5bd8PPz1HDJS"
   },
   "outputs": [],
   "source": [
    "def plot_decision_boundary(clf):\n",
    "    # рисует границу для классификации\n",
    "    w1, w2 = clf.get_weights()[:2]\n",
    "    print(f\"weights: ({w1}, {w2})\")\n",
    "    x = np.linspace(-10, 10)\n",
    "    # w1 * x + w2 * y = threshold = 0.5\n",
    "    y = (0.5 - w1 * x) / w2\n",
    "    plt.plot(x, y)"
   ]
  },
  {
   "cell_type": "code",
   "execution_count": 10,
   "metadata": {
    "colab": {
     "base_uri": "https://localhost:8080/",
     "height": 337
    },
    "id": "V_12uG_SHDJT",
    "outputId": "9c0a65c2-cec0-40bd-a6e4-4753c5731ce4"
   },
   "outputs": [],
   "source": [
    "# data generation\n",
    "np.random.seed(0)\n",
    "\n",
    "C1 = np.array([[0., -0.8], [1.5, 0.8]])\n",
    "C2 = np.array([[1., -0.7], [2., 0.7]])\n",
    "gauss1 = np.dot(np.random.randn(200, 2) + np.array([5, 3]), C1)\n",
    "gauss2 = np.dot(np.random.randn(200, 2) + np.array([1.5, 0]), C2)\n",
    "\n",
    "X = np.vstack([gauss1, gauss2])\n",
    "y = np.r_[np.ones(200), np.zeros(200)]"
   ]
  },
  {
   "cell_type": "code",
   "execution_count": 11,
   "metadata": {
    "colab": {
     "base_uri": "https://localhost:8080/",
     "height": 337
    },
    "id": "V_12uG_SHDJT",
    "outputId": "9c0a65c2-cec0-40bd-a6e4-4753c5731ce4"
   },
   "outputs": [
    {
     "name": "stdout",
     "output_type": "stream",
     "text": [
      "weights: (0.1590571223313973, -0.041002167050507764)\n"
     ]
    },
    {
     "data": {
      "image/png": "[encoded data removed]",
      "text/plain": [
       "<Figure size 864x360 with 1 Axes>"
      ]
     },
     "metadata": {},
     "output_type": "display_data"
    }
   ],
   "source": [
    "# fit model\n",
    "my_batch_generator = batch_generator(X, y, shuffle=True, batch_size=1)\n",
    "model = MySGDClassifier(my_batch_generator, model_type='log_reg')\n",
    "model.fit(X, y, n_log = 10)\n",
    "# draw boundary\n",
    "plot_decision_boundary(model)\n",
    "\n",
    "# draw data\n",
    "plt.xlim((np.min(X[:, 0])-0.5, np.max(X[:, 0])+0.5))\n",
    "plt.ylim((np.min(X[:, 1])-0.5, np.max(X[:, 1])+0.5))\n",
    "plt.scatter(X[:,0], X[:,1], c=y);"
   ]
  },
  {
   "cell_type": "code",
   "execution_count": 12,
   "metadata": {
    "colab": {
     "base_uri": "https://localhost:8080/",
     "height": 320
    },
    "id": "Hc2IB808HDJT",
    "outputId": "c6fec607-7a7b-4b06-f1e8-b35c76cac52d"
   },
   "outputs": [
    {
     "data": {
      "image/png": "[encoded data removed]",
      "text/plain": [
       "<Figure size 864x360 with 1 Axes>"
      ]
     },
     "metadata": {},
     "output_type": "display_data"
    }
   ],
   "source": [
    "plt.plot(model.errors_log['iter'], model.errors_log['loss']);"
   ]
  },
  {
   "cell_type": "markdown",
   "metadata": {
    "id": "z1y6rA2ZHDJT"
   },
   "source": [
    "Далее будем анализировать Ваш алгоритм. \n",
    "Для этих заданий используйте датасет ниже."
   ]
  },
  {
   "cell_type": "code",
   "execution_count": 13,
   "metadata": {
    "id": "FFPp4UHTHDJT"
   },
   "outputs": [],
   "source": [
    "from sklearn.datasets import make_classification\n",
    "\n",
    "X, y = make_classification(n_samples=100000, n_features=10, \n",
    "                           n_informative=4, n_redundant=0, \n",
    "                           random_state=123, class_sep=1.0,\n",
    "                           n_clusters_per_class=1)"
   ]
  },
  {
   "cell_type": "code",
   "execution_count": 14,
   "metadata": {
    "colab": {
     "base_uri": "https://localhost:8080/"
    },
    "id": "HypLBfghNDN4",
    "outputId": "bf6c8dce-7657-42c7-cb63-d09782abb202"
   },
   "outputs": [
    {
     "data": {
      "text/plain": [
       "(100000, 10)"
      ]
     },
     "execution_count": 14,
     "metadata": {},
     "output_type": "execute_result"
    }
   ],
   "source": [
    "X.shape"
   ]
  },
  {
   "cell_type": "markdown",
   "metadata": {
    "id": "BqKacdwzHDJU"
   },
   "source": [
    "Покажите сходимости обеих регрессией на этом датасете: изобразите график  функции потерь, усредненной по $N$ шагам градиентого спуска, для разных `alpha` (размеров шага). Разные `alpha` расположите на одном графике. \n",
    "\n",
    "$N$ можно брать 10, 50, 100 и т.д. "
   ]
  },
  {
   "cell_type": "code",
   "execution_count": 15,
   "metadata": {
    "colab": {
     "base_uri": "https://localhost:8080/",
     "height": 320
    },
    "id": "52Md5-iWHDJU",
    "outputId": "bdf2fa70-853a-45f0-f239-8f23b1b1c6b9"
   },
   "outputs": [
    {
     "data": {
      "image/png": "[encoded data removed]",
      "text/plain": [
       "<Figure size 864x360 with 1 Axes>"
      ]
     },
     "metadata": {},
     "output_type": "display_data"
    }
   ],
   "source": [
    "for alpha in np.array([0.1, 0.01, 0.001, 0.03, 0.003, 3e-4]):\n",
    "    # fit model\n",
    "    my_batch_generator = batch_generator(X, y, shuffle=True, batch_size=128)\n",
    "    model = MySGDClassifier(my_batch_generator, model_type='log_reg', alpha=alpha)\n",
    "    model.fit(X, y, n_log = 50)\n",
    "    plt.plot(model.errors_log['iter'], model.errors_log['loss'], label=str(alpha))\n",
    "plt.title(\"LogReg - variation of alpha\")\n",
    "plt.legend();"
   ]
  },
  {
   "cell_type": "code",
   "execution_count": 16,
   "metadata": {
    "colab": {
     "base_uri": "https://localhost:8080/",
     "height": 320
    },
    "id": "J-gwxlEjHDJU",
    "outputId": "2bc055ca-33ec-42c6-c1eb-0a3c8b485d5e"
   },
   "outputs": [
    {
     "data": {
      "image/png": "[encoded data removed]",
      "text/plain": [
       "<Figure size 864x360 with 1 Axes>"
      ]
     },
     "metadata": {},
     "output_type": "display_data"
    }
   ],
   "source": [
    "for alpha in np.array([0.01, 0.1, 0.001, 0.03, 0.003, 3e-4]):\n",
    "    # fit model\n",
    "    my_batch_generator = batch_generator(X, y, shuffle=True, batch_size=128)\n",
    "    model = MySGDClassifier(my_batch_generator, model_type='lin_reg', alpha=alpha)\n",
    "    model.fit(X, y, n_log = 50)\n",
    "    plt.plot(model.errors_log['iter'], model.errors_log['loss'], label=str(alpha))\n",
    "plt.title(\"LinReg - variation of alpha\")\n",
    "plt.legend();"
   ]
  },
  {
   "cell_type": "markdown",
   "metadata": {},
   "source": [
    "В целом везде была неплохая сходимость, кроме лучая логрега и alpha=0.01. Видно, что loss скачет, это потому что с таким шагом SGD мы постоянно перепрыгиваем минимум. Отсюда можно сделать вывод, что не стоит брать такие большие alpha"
   ]
  },
  {
   "cell_type": "markdown",
   "metadata": {
    "id": "eb5ytcC9HDJU"
   },
   "source": [
    "Что Вы можете сказать про сходимость метода при различных `alpha`? Какое значение стоит выбирать для лучшей сходимости?\n",
    "\n",
    "Изобразите график среднего значения весов для обеих регрессий в зависимости от коеф. регуляризации С из `np.logspace(3, -3, 10)` "
   ]
  },
  {
   "cell_type": "code",
   "execution_count": 17,
   "metadata": {
    "colab": {
     "base_uri": "https://localhost:8080/",
     "height": 476
    },
    "id": "dF8ZMSWZHDJU",
    "outputId": "ab6b90c9-4e35-4224-eb3d-cca473c93bf0"
   },
   "outputs": [
    {
     "name": "stderr",
     "output_type": "stream",
     "text": [
      "C:\\Users\\jaaj\\AppData\\Local\\Temp/ipykernel_1144/186066617.py:10: RuntimeWarning: overflow encountered in exp\n",
      "  return 1. / (1 + np.exp(-x))\n",
      "C:\\Users\\jaaj\\AppData\\Local\\Temp/ipykernel_1144/186066617.py:48: RuntimeWarning: overflow encountered in double_scalars\n",
      "  loss += np.sum(np.square(self.weights)) / self.C\n",
      "D:\\anaconda\\lib\\site-packages\\numpy\\core\\fromnumeric.py:87: RuntimeWarning: overflow encountered in reduce\n",
      "  return ufunc.reduce(obj, axis, dtype, out, **passkwargs)\n",
      "C:\\Users\\jaaj\\AppData\\Local\\Temp/ipykernel_1144/186066617.py:48: RuntimeWarning: overflow encountered in square\n",
      "  loss += np.sum(np.square(self.weights)) / self.C\n",
      "C:\\Users\\jaaj\\AppData\\Local\\Temp/ipykernel_1144/186066617.py:69: RuntimeWarning: overflow encountered in true_divide\n",
      "  loss_grad += 2 * self.weights / self.C\n",
      "C:\\Users\\jaaj\\AppData\\Local\\Temp/ipykernel_1144/186066617.py:65: RuntimeWarning: invalid value encountered in matmul\n",
      "  loss_grad -= (yi - sigmoid(xi @ self.weights)) * xi\n",
      "C:\\Users\\jaaj\\AppData\\Local\\Temp/ipykernel_1144/186066617.py:122: RuntimeWarning: invalid value encountered in matmul\n",
      "  y_hat = sigmoid(X @ self.weights)\n"
     ]
    },
    {
     "data": {
      "image/png": "[encoded data removed]",
      "text/plain": [
       "<Figure size 864x360 with 1 Axes>"
      ]
     },
     "metadata": {},
     "output_type": "display_data"
    }
   ],
   "source": [
    "diff_c = np.logspace(3, -3, 10)\n",
    "mean_w = []\n",
    "for C in diff_c:\n",
    "    my_batch_generator = batch_generator(X, y, shuffle=True, batch_size=128)\n",
    "    model = MySGDClassifier(my_batch_generator, model_type='log_reg', C=C)\n",
    "    model.fit(X, y, n_log = 50)\n",
    "    mean_w.append(np.mean(model.get_weights()))\n",
    "plt.title(\"LogReg - variation of C\")\n",
    "plt.xticks(diff_c)\n",
    "plt.plot(diff_c, mean_w);"
   ]
  },
  {
   "cell_type": "code",
   "execution_count": 21,
   "metadata": {},
   "outputs": [
    {
     "data": {
      "text/plain": [
       "array([1.00000000e+03, 2.15443469e+02, 4.64158883e+01, 1.00000000e+01,\n",
       "       2.15443469e+00, 4.64158883e-01, 1.00000000e-01, 2.15443469e-02,\n",
       "       4.64158883e-03, 1.00000000e-03])"
      ]
     },
     "execution_count": 21,
     "metadata": {},
     "output_type": "execute_result"
    }
   ],
   "source": [
    "diff_c"
   ]
  },
  {
   "cell_type": "markdown",
   "metadata": {},
   "source": [
    "Самый лучший вариант вышел для самого малого C, также видно, что при увеличении C абсолютные значения весов не будут самыми маленькими, например для 1000"
   ]
  },
  {
   "cell_type": "code",
   "execution_count": 18,
   "metadata": {
    "colab": {
     "base_uri": "https://localhost:8080/",
     "height": 494
    },
    "id": "fo36CwqLVkwo",
    "outputId": "a82e8d34-25e1-434b-aa83-3f15d1fe00ee"
   },
   "outputs": [
    {
     "name": "stderr",
     "output_type": "stream",
     "text": [
      "D:\\anaconda\\lib\\site-packages\\numpy\\core\\fromnumeric.py:87: RuntimeWarning: overflow encountered in reduce\n",
      "  return ufunc.reduce(obj, axis, dtype, out, **passkwargs)\n",
      "C:\\Users\\jaaj\\AppData\\Local\\Temp/ipykernel_1144/186066617.py:42: RuntimeWarning: overflow encountered in square\n",
      "  loss = np.sum(np.square(pred - y_batch)) / len(X_batch)\n",
      "C:\\Users\\jaaj\\AppData\\Local\\Temp/ipykernel_1144/186066617.py:48: RuntimeWarning: overflow encountered in double_scalars\n",
      "  loss += np.sum(np.square(self.weights)) / self.C\n",
      "C:\\Users\\jaaj\\AppData\\Local\\Temp/ipykernel_1144/186066617.py:48: RuntimeWarning: overflow encountered in square\n",
      "  loss += np.sum(np.square(self.weights)) / self.C\n",
      "C:\\Users\\jaaj\\AppData\\Local\\Temp/ipykernel_1144/186066617.py:61: RuntimeWarning: overflow encountered in matmul\n",
      "  loss_grad = 2 * X_batch.T @  (X_batch @ self.weights - y_batch) / len(X_batch)\n",
      "C:\\Users\\jaaj\\AppData\\Local\\Temp/ipykernel_1144/186066617.py:61: RuntimeWarning: invalid value encountered in matmul\n",
      "  loss_grad = 2 * X_batch.T @  (X_batch @ self.weights - y_batch) / len(X_batch)\n",
      "C:\\Users\\jaaj\\AppData\\Local\\Temp/ipykernel_1144/186066617.py:69: RuntimeWarning: overflow encountered in true_divide\n",
      "  loss_grad += 2 * self.weights / self.C\n",
      "C:\\Users\\jaaj\\AppData\\Local\\Temp/ipykernel_1144/186066617.py:120: RuntimeWarning: invalid value encountered in matmul\n",
      "  y_hat = X @ self.weights\n",
      "C:\\Users\\jaaj\\AppData\\Local\\Temp/ipykernel_1144/186066617.py:69: RuntimeWarning: invalid value encountered in add\n",
      "  loss_grad += 2 * self.weights / self.C\n"
     ]
    },
    {
     "data": {
      "image/png": "[encoded data removed]",
      "text/plain": [
       "<Figure size 864x360 with 1 Axes>"
      ]
     },
     "metadata": {},
     "output_type": "display_data"
    }
   ],
   "source": [
    "mean_w = []\n",
    "for C in diff_c:\n",
    "    my_batch_generator = batch_generator(X, y, shuffle=True, batch_size=128)\n",
    "    model = MySGDClassifier(my_batch_generator, model_type='lin_reg', C=C)\n",
    "    model.fit(X, y, n_log = 50)\n",
    "    mean_w.append(np.mean(model.get_weights()))\n",
    "plt.title(\"LinReg - variation of C\")\n",
    "plt.xticks(diff_c)\n",
    "plt.plot(diff_c, mean_w);"
   ]
  },
  {
   "cell_type": "markdown",
   "metadata": {
    "id": "LL_MNuFfHDJV"
   },
   "source": [
    "Довольны ли Вы, насколько сильно уменьшились Ваши веса? "
   ]
  },
  {
   "cell_type": "markdown",
   "metadata": {
    "id": "71t3WfhrHDJV"
   },
   "source": [
    "для линрега ситуация аналогична: меньшие значения при меньшем C"
   ]
  },
  {
   "cell_type": "code",
   "execution_count": null,
   "metadata": {},
   "outputs": [],
   "source": []
  }
 ],
 "metadata": {
  "colab": {
   "collapsed_sections": [
    "Fzfy6g2fHDJQ"
   ],
   "provenance": []
  },
  "kernelspec": {
   "display_name": "Python 3 (ipykernel)",
   "language": "python",
   "name": "python3"
  },
  "language_info": {
   "codemirror_mode": {
    "name": "ipython",
    "version": 3
   },
   "file_extension": ".py",
   "mimetype": "text/x-python",
   "name": "python",
   "nbconvert_exporter": "python",
   "pygments_lexer": "ipython3",
   "version": "3.9.7"
  }
 },
 "nbformat": 4,
 "nbformat_minor": 1
}
